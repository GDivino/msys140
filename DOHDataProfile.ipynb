{
 "cells": [
  {
   "cell_type": "code",
   "execution_count": 27,
   "metadata": {},
   "outputs": [],
   "source": [
    "import pandas as pd\n",
    "import seaborn as sns\n",
    "\n",
    "df = pd.read_csv('DOH COVID Data Drop - Case Information.csv')"
   ]
  },
  {
   "cell_type": "code",
   "execution_count": 41,
   "metadata": {
    "tags": []
   },
   "outputs": [
    {
     "name": "stdout",
     "output_type": "stream",
     "text": [
      "<class 'pandas.core.frame.DataFrame'>\n",
      "RangeIndex: 1000000 entries, 0 to 999999\n",
      "Data columns (total 22 columns):\n",
      " #   Column             Non-Null Count    Dtype         \n",
      "---  ------             --------------    -----         \n",
      " 0   CaseCode           1000000 non-null  object        \n",
      " 1   Age                999815 non-null   float64       \n",
      " 2   AgeGroup           999815 non-null   object        \n",
      " 3   Sex                1000000 non-null  object        \n",
      " 4   DateSpecimen       832906 non-null   object        \n",
      " 5   DateResultRelease  833423 non-null   object        \n",
      " 6   DateRepConf        1000000 non-null  datetime64[ns]\n",
      " 7   DateDied           16563 non-null    object        \n",
      " 8   DateRecover        135903 non-null   object        \n",
      " 9   RemovalType        996384 non-null   object        \n",
      " 10  Admitted           429156 non-null   object        \n",
      " 11  RegionRes          999995 non-null   object        \n",
      " 12  ProvRes            995936 non-null   object        \n",
      " 13  CityMunRes         993920 non-null   object        \n",
      " 14  CityMuniPSGC       993920 non-null   object        \n",
      " 15  BarangayRes        977924 non-null   object        \n",
      " 16  BarangayPSGC       977924 non-null   object        \n",
      " 17  HealthStatus       1000000 non-null  object        \n",
      " 18  Quarantined        1000000 non-null  object        \n",
      " 19  DateOnset          454284 non-null   object        \n",
      " 20  Pregnanttab        506776 non-null   object        \n",
      " 21  ValidationStatus   849779 non-null   object        \n",
      "dtypes: datetime64[ns](1), float64(1), object(20)\n",
      "memory usage: 167.8+ MB\n"
     ]
    }
   ],
   "source": [
    "# DATA PROFILING\n",
    "# data profiling can only be applied to age because it is the only attribute with numeric data type\n",
    "df.describe()\n",
    "df.info()"
   ]
  },
  {
   "cell_type": "code",
   "execution_count": 34,
   "metadata": {},
   "outputs": [
    {
     "name": "stdout",
     "output_type": "stream",
     "text": [
      "BarangayRes    97.79\n",
      "dtype: float64\n",
      "\n"
     ]
    },
    {
     "data": {
      "text/html": [
       "<div>\n",
       "<style scoped>\n",
       "    .dataframe tbody tr th:only-of-type {\n",
       "        vertical-align: middle;\n",
       "    }\n",
       "\n",
       "    .dataframe tbody tr th {\n",
       "        vertical-align: top;\n",
       "    }\n",
       "\n",
       "    .dataframe thead th {\n",
       "        text-align: right;\n",
       "    }\n",
       "</style>\n",
       "<table border=\"1\" class=\"dataframe\">\n",
       "  <thead>\n",
       "    <tr style=\"text-align: right;\">\n",
       "      <th></th>\n",
       "      <th>month</th>\n",
       "      <th>record completeness</th>\n",
       "    </tr>\n",
       "  </thead>\n",
       "  <tbody>\n",
       "    <tr>\n",
       "      <th>0</th>\n",
       "      <td>4</td>\n",
       "      <td>97.803153</td>\n",
       "    </tr>\n",
       "    <tr>\n",
       "      <th>1</th>\n",
       "      <td>5</td>\n",
       "      <td>97.935581</td>\n",
       "    </tr>\n",
       "    <tr>\n",
       "      <th>2</th>\n",
       "      <td>6</td>\n",
       "      <td>97.808801</td>\n",
       "    </tr>\n",
       "    <tr>\n",
       "      <th>3</th>\n",
       "      <td>7</td>\n",
       "      <td>97.614946</td>\n",
       "    </tr>\n",
       "    <tr>\n",
       "      <th>4</th>\n",
       "      <td>8</td>\n",
       "      <td>97.804275</td>\n",
       "    </tr>\n",
       "    <tr>\n",
       "      <th>5</th>\n",
       "      <td>9</td>\n",
       "      <td>97.318990</td>\n",
       "    </tr>\n",
       "  </tbody>\n",
       "</table>\n",
       "</div>"
      ],
      "text/plain": [
       "   month  record completeness\n",
       "0      4            97.803153\n",
       "1      5            97.935581\n",
       "2      6            97.808801\n",
       "3      7            97.614946\n",
       "4      8            97.804275\n",
       "5      9            97.318990"
      ]
     },
     "execution_count": 34,
     "metadata": {},
     "output_type": "execute_result"
    }
   ],
   "source": [
    "# MEASURING COMPLETENESS\n",
    "\n",
    "# Get count of values of BarangayRes\n",
    "barangay_res_count = df[['BarangayRes']].count()\n",
    "\n",
    "# Compute completion percentage\n",
    "print(round((barangay_res_count / 1000000) * 100, 2))\n",
    "print()\n",
    "\n",
    "# Filter only april to sept\n",
    "df['DateRepConf'] = pd.to_datetime(df['DateRepConf'], format='%Y-%m-%d')\n",
    "filtered_df = df.loc[(df['DateRepConf'] >= '2021-04-01') & (df['DateRepConf'] <= '2021-09-30')]\n",
    "filtered_df['month'] = filtered_df['DateRepConf'].dt.month\n",
    "\n",
    "# create april - sept record completeness table\n",
    "months = [4, 5, 6, 7, 8, 9]\n",
    "time_series = pd.DataFrame({'month': months})\n",
    "record_completeness = []\n",
    "\n",
    "for i in months:\n",
    "    col = filtered_df[filtered_df['month'] == i]\n",
    "    percent = col['BarangayRes'].notnull().sum() * 100 / len(col['BarangayRes'])\n",
    "    record_completeness.append(percent)\n",
    "    \n",
    "time_series['record completeness'] = record_completeness\n",
    "time_series\n"
   ]
  },
  {
   "cell_type": "code",
   "execution_count": 35,
   "metadata": {},
   "outputs": [
    {
     "data": {
      "text/plain": [
       "<AxesSubplot:xlabel='month', ylabel='record completeness'>"
      ]
     },
     "execution_count": 35,
     "metadata": {},
     "output_type": "execute_result"
    },
    {
     "data": {
      "image/png": "[encoded data removed]",
      "text/plain": [
       "<Figure size 640x480 with 1 Axes>"
      ]
     },
     "metadata": {},
     "output_type": "display_data"
    }
   ],
   "source": [
    "# create time series graph\n",
    "sns.lineplot(data=time_series, x='month', y='record completeness')"
   ]
  },
  {
   "cell_type": "code",
   "execution_count": null,
   "metadata": {},
   "outputs": [],
   "source": [
    "# DATA QUALITY STRATEGY\n",
    "'''\n",
    "The DOH COVID Health Data contains data of people who got infected by COVID from April to September. The age attribute was used to create a profile of the people in the data set. There were 185 null rows, a mean age of 38.21, a median of 35, standard deviation of 18.48, a minimum age of 0, and maximum age of 107. Based on the values of the median and mode, it can be assumed that the age of people in the data set is negatively skewed, meaning that there is more data on people who are older. Based on the business context as well, it can also be assumed that the data is incomplete, and could further be organized.\n",
    "\n",
    "For the data strategy, I suggest to make sure to get data of people from all ages. This way, the distribution of the data would be more normal. I also suggest to take the \"asymptomatic\" data cell out of health status because being asymptomatic is a different category from \"Recovered\" or \"Died\". We could add an attribute called symptoms and merge the \"Admitted\" attribute with the \"Health Status\" attribtue. In this way, DOH would be able to benefit more from relevant attributes, and a more organized data set. The \"Health Status\" attribtue would contain \"Recovered\", \"Died\", and \"Hospitalized\", while the \"Symptoms\" attribute would contain \"Asymptomatic\", and the symptroms that the patient experienced.\n",
    "'''"
   ]
  }
 ],
 "metadata": {
  "kernelspec": {
   "display_name": "Python 3 (ipykernel)",
   "language": "python",
   "name": "python3"
  },
  "language_info": {
   "codemirror_mode": {
    "name": "ipython",
    "version": 3
   },
   "file_extension": ".py",
   "mimetype": "text/x-python",
   "name": "python",
   "nbconvert_exporter": "python",
   "pygments_lexer": "ipython3",
   "version": "3.8.10"
  },
  "vscode": {
   "interpreter": {
    "hash": "ee6c21e77ca18d537a57ac8f1f3f0d3266149843ddcdffb577285342bfaf3150"
   }
  }
 },
 "nbformat": 4,
 "nbformat_minor": 4
}
